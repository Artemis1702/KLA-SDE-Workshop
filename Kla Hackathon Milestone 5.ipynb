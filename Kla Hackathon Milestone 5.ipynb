{
 "cells": [
  {
   "cell_type": "code",
   "execution_count": 20,
   "id": "c904e35b",
   "metadata": {},
   "outputs": [],
   "source": [
    "source = open('C:\\\\Users\\\\tejas\\\\Desktop\\\\KLA Hackathon\\\\Milestone_Input\\\\Milestone_Input\\\\Milestone 5\\\\Source.txt', 'r')\n",
    "content_src_4 = source.read()\n",
    "# print(content_src_4)\n",
    "source.close()"
   ]
  },
  {
   "cell_type": "code",
   "execution_count": 21,
   "id": "9d89258f",
   "metadata": {},
   "outputs": [
    {
     "name": "stdout",
     "output_type": "stream",
     "text": [
      "header 600 \n",
      "bgnlib 1/18/2023 21:51:25 1/18/2023 21:51:25 \n",
      "libname egdslib\n",
      "units 0.0001 1e-10 \n",
      "\n",
      "bgnstr 1/18/2023 21:51:25 1/18/2023 21:51:25 \n",
      "strname child\n",
      "\n",
      "boundary\n",
      "layer 1\n",
      "datatype 0\n",
      "xy  13  500 3900  500 6440  2670 6440  2670 5820  770 5820  770 5490  2680 5490  2680 4870  770 4870  770 4520  2670 4520  2670 3900  500 3900\n",
      "endel\n",
      "endstr\n",
      "endlib\n",
      "\n"
     ]
    }
   ],
   "source": [
    "poi = open('C:\\\\Users\\\\tejas\\\\Desktop\\\\KLA Hackathon\\\\Milestone_Input\\\\Milestone_Input\\\\Milestone 5\\\\POI.txt', 'r')\n",
    "content_poi_4 = poi.read()\n",
    "print(content_poi_4)\n",
    "poi.close()"
   ]
  },
  {
   "cell_type": "code",
   "execution_count": 22,
   "id": "f2cf777c",
   "metadata": {},
   "outputs": [],
   "source": [
    "def shoelace_formula(coordinates):\n",
    "    n = len(coordinates)\n",
    "    area = 0.0\n",
    "    for i in range(n):\n",
    "        j = (i + 1) % n\n",
    "        area += coordinates[i][0] * coordinates[j][1]\n",
    "        area -= coordinates[j][0] * coordinates[i][1]\n",
    "    area = abs(area) / 2.0\n",
    "    return area"
   ]
  },
  {
   "cell_type": "code",
   "execution_count": 23,
   "id": "70d32113",
   "metadata": {},
   "outputs": [
    {
     "data": {
      "text/plain": [
       "['xy  13  500 3900  500 6440  2670 6440  2670 5820  770 5820  770 5490  2680 5490  2680 4870  770 4870  770 4520  2670 4520  2670 3900  500 3900']"
      ]
     },
     "execution_count": 23,
     "metadata": {},
     "output_type": "execute_result"
    }
   ],
   "source": [
    "import re\n",
    "\n",
    "# open the text file\n",
    "with open(\"C:\\\\Users\\\\tejas\\\\Desktop\\\\KLA Hackathon\\\\Milestone_Input\\\\Milestone_Input\\\\Milestone 5\\\\POI.txt\", \"r\") as f:\n",
    "    text = f.read()\n",
    "\n",
    "matches = re.findall(r'^.*xy  13.*$', text, re.MULTILINE)\n",
    "target = []\n",
    "for match in matches:\n",
    "    target.append(match)\n",
    "target"
   ]
  },
  {
   "cell_type": "code",
   "execution_count": 24,
   "id": "e2654f80",
   "metadata": {},
   "outputs": [
    {
     "data": {
      "text/plain": [
       "['500 3900  500 6440  2670 6440  2670 5820  770 5820  770 5490  2680 5490  2680 4870  770 4870  770 4520  2670 4520  2670 3900  500 3900']"
      ]
     },
     "execution_count": 24,
     "metadata": {},
     "output_type": "execute_result"
    }
   ],
   "source": [
    "t1 = []\n",
    "for i in target:\n",
    "    i = i.replace(\"xy  13  \",\"\")\n",
    "    t1.append(i)\n",
    "t1"
   ]
  },
  {
   "cell_type": "code",
   "execution_count": 25,
   "id": "8617fc14",
   "metadata": {},
   "outputs": [
    {
     "data": {
      "text/plain": [
       "[[[500, 3900],\n",
       "  [500, 6440],\n",
       "  [2670, 6440],\n",
       "  [2670, 5820],\n",
       "  [770, 5820],\n",
       "  [770, 5490],\n",
       "  [2680, 5490],\n",
       "  [2680, 4870],\n",
       "  [770, 4870],\n",
       "  [770, 4520],\n",
       "  [2670, 4520],\n",
       "  [2670, 3900],\n",
       "  [500, 3900]]]"
      ]
     },
     "execution_count": 25,
     "metadata": {},
     "output_type": "execute_result"
    }
   ],
   "source": [
    "t2 = []\n",
    "# string  = l1[0]\n",
    "for i in t1:\n",
    "    t4 = []\n",
    "    matches = re.findall(r'(-?\\d+) (-?\\d+)', i)\n",
    "\n",
    "    for match in matches:\n",
    "        m = []\n",
    "        for i in match:\n",
    "            i = int(i)\n",
    "            m.append(i)\n",
    "        t4.append(m)\n",
    "    t2.append(t4)\n",
    "t2"
   ]
  },
  {
   "cell_type": "code",
   "execution_count": 26,
   "id": "0832c8bd",
   "metadata": {},
   "outputs": [
    {
     "data": {
      "text/plain": [
       "[4226000.0]"
      ]
     },
     "execution_count": 26,
     "metadata": {},
     "output_type": "execute_result"
    }
   ],
   "source": [
    "at = []\n",
    "for i in t2:\n",
    "    area = shoelace_formula(i)\n",
    "    at.append(area)\n",
    "at"
   ]
  },
  {
   "cell_type": "code",
   "execution_count": 27,
   "id": "a4efa2d0",
   "metadata": {},
   "outputs": [],
   "source": [
    "# pat = \"xy  7\"\n",
    "import re\n",
    "\n",
    "# open the text file\n",
    "with open(\"C:\\\\Users\\\\tejas\\\\Desktop\\\\KLA Hackathon\\\\Milestone_Input\\\\Milestone_Input\\\\Milestone 5\\\\Source.txt\", \"r\") as f:\n",
    "    text = f.read()\n",
    "\n",
    "matches = re.findall(r'^.*xy  13.*$', text, re.MULTILINE)\n",
    "l = []\n",
    "for match in matches:\n",
    "    l.append(match)\n",
    "# l"
   ]
  },
  {
   "cell_type": "code",
   "execution_count": 28,
   "id": "3d40c080",
   "metadata": {},
   "outputs": [],
   "source": [
    "l1 = []\n",
    "for i in l:\n",
    "    i = i.replace(\"xy  13  \",\"\")\n",
    "    l1.append(i)\n"
   ]
  },
  {
   "cell_type": "code",
   "execution_count": 29,
   "id": "a44bc585",
   "metadata": {},
   "outputs": [
    {
     "data": {
      "text/plain": [
       "5448"
      ]
     },
     "execution_count": 29,
     "metadata": {},
     "output_type": "execute_result"
    }
   ],
   "source": [
    "l2 = []\n",
    "# string  = l1[0]\n",
    "for i in l1:\n",
    "    l4 = []\n",
    "    matches = re.findall(r'(-?\\d+) (-?\\d+)', i)\n",
    "\n",
    "    for match in matches:\n",
    "        m = []\n",
    "        for i in match:\n",
    "            i = int(i)\n",
    "            m.append(i)\n",
    "        l4.append(m)\n",
    "    l2.append(l4)\n",
    "len(l2)"
   ]
  },
  {
   "cell_type": "code",
   "execution_count": 30,
   "id": "413ad8bd",
   "metadata": {},
   "outputs": [],
   "source": [
    "al = []\n",
    "for i in l2:\n",
    "    area = shoelace_formula(i)\n",
    "    al.append(area)\n",
    "# ind.app\n",
    "# for i in al:\n",
    "#     if i != at[0]:\n",
    "#         ind = al.index(i)\n",
    "# # print(ind)"
   ]
  },
  {
   "cell_type": "code",
   "execution_count": 31,
   "id": "d077d9e6",
   "metadata": {},
   "outputs": [],
   "source": [
    "r2 = 'xy'"
   ]
  },
  {
   "cell_type": "code",
   "execution_count": 39,
   "id": "d4cd43c1",
   "metadata": {},
   "outputs": [],
   "source": [
    "r3 = 'xy  13'"
   ]
  },
  {
   "cell_type": "code",
   "execution_count": 40,
   "id": "87436801",
   "metadata": {},
   "outputs": [],
   "source": [
    "start = content_poi_4.find(\"header 600\")\n",
    "end = content_poi_4.find(\"boundary\")\n",
    "paragraph = content_poi_4[start:end]\n",
    "f1 = open(\"output.txt\", \"w\")\n",
    "f1.write(paragraph)\n",
    "f1.close()"
   ]
  },
  {
   "cell_type": "code",
   "execution_count": 41,
   "id": "90927636",
   "metadata": {},
   "outputs": [
    {
     "name": "stdout",
     "output_type": "stream",
     "text": [
      "9027250\n"
     ]
    }
   ],
   "source": [
    "with open(\"C:\\\\Users\\\\tejas\\\\Desktop\\\\KLA Hackathon\\\\Milestone_Input\\\\Milestone_Input\\\\Milestone 5\\\\Source.txt\", \"r\") as f:\n",
    "    lines = f.readlines()\n",
    "print(len(lines))"
   ]
  },
  {
   "cell_type": "code",
   "execution_count": 42,
   "id": "3b1ab5aa",
   "metadata": {},
   "outputs": [
    {
     "data": {
      "text/plain": [
       "5448"
      ]
     },
     "execution_count": 42,
     "metadata": {},
     "output_type": "execute_result"
    }
   ],
   "source": [
    "ind = []\n",
    "\n",
    "# loop through the list using enumerate\n",
    "for i, el in enumerate(al):\n",
    "    if el == at[0]:\n",
    "        ind.append(i)\n",
    "len(ind)"
   ]
  },
  {
   "cell_type": "code",
   "execution_count": 43,
   "id": "b61de667",
   "metadata": {},
   "outputs": [],
   "source": [
    "select = [s for s in lines if s.startswith(r2)]\n",
    "for s in select:\n",
    "    if (s.startswith(r3)) == True:\n",
    "        ind2 =  lines.index(s)\n",
    "        f1 = open(\"output.txt\", \"a\")\n",
    "        f1.write(lines[ind2 - 3])\n",
    "        f1.write(lines[ind2 - 2])\n",
    "        f1.write(lines[ind2 - 1])\n",
    "        f1.write(lines[ind2])\n",
    "        f1.write(lines[ind2 + 1])\n",
    "        f1.close()"
   ]
  },
  {
   "cell_type": "code",
   "execution_count": 44,
   "id": "cc01de50",
   "metadata": {},
   "outputs": [],
   "source": [
    "# Footer\n",
    "f1 = open(\"output.txt\", \"a\")\n",
    "f1.write(\"endstr\\nendlib\")\n",
    "f1.close()"
   ]
  },
  {
   "cell_type": "code",
   "execution_count": 27,
   "id": "6cbb9b2d",
   "metadata": {},
   "outputs": [
    {
     "ename": "KeyboardInterrupt",
     "evalue": "",
     "output_type": "error",
     "traceback": [
      "\u001b[1;31m---------------------------------------------------------------------------\u001b[0m",
      "\u001b[1;31mKeyboardInterrupt\u001b[0m                         Traceback (most recent call last)",
      "\u001b[1;32m<ipython-input-27-1131d380a649>\u001b[0m in \u001b[0;36m<module>\u001b[1;34m\u001b[0m\n\u001b[0;32m      9\u001b[0m \u001b[1;31m#         print(lines[ind2 - 2])\u001b[0m\u001b[1;33m\u001b[0m\u001b[1;33m\u001b[0m\u001b[1;33m\u001b[0m\u001b[0m\n\u001b[0;32m     10\u001b[0m \u001b[1;31m#         print(lines[ind2 - 3])\u001b[0m\u001b[1;33m\u001b[0m\u001b[1;33m\u001b[0m\u001b[1;33m\u001b[0m\u001b[0m\n\u001b[1;32m---> 11\u001b[1;33m         \u001b[1;32mdel\u001b[0m \u001b[0mlines\u001b[0m\u001b[1;33m[\u001b[0m\u001b[0mind2\u001b[0m \u001b[1;33m-\u001b[0m \u001b[1;36m3\u001b[0m \u001b[1;33m:\u001b[0m \u001b[0mind2\u001b[0m \u001b[1;33m+\u001b[0m \u001b[1;36m2\u001b[0m\u001b[1;33m]\u001b[0m\u001b[1;33m\u001b[0m\u001b[1;33m\u001b[0m\u001b[0m\n\u001b[0m",
      "\u001b[1;31mKeyboardInterrupt\u001b[0m: "
     ]
    }
   ],
   "source": [
    "select = [s for s in lines if s.startswith(r2)]\n",
    "for s in select:\n",
    "    if (s.startswith(r3)) == False:\n",
    "        ind2 =  lines.index(s)\n",
    "        print(ind2)\n",
    "#         print(lines[ind2])\n",
    "#         print(lines[ind2 + 1])\n",
    "#         print(lines[ind2 - 1])\n",
    "#         print(lines[ind2 - 2])\n",
    "#         print(lines[ind2 - 3])\n",
    "        del lines[ind2 - 3 : ind2 + 2]"
   ]
  },
  {
   "cell_type": "code",
   "execution_count": null,
   "id": "59b9d96d",
   "metadata": {},
   "outputs": [],
   "source": [
    "len(lines)"
   ]
  },
  {
   "cell_type": "code",
   "execution_count": null,
   "id": "812258db",
   "metadata": {},
   "outputs": [],
   "source": [
    "# open the new file and write the remaining lines\n",
    "with open(\"output5.txt\", \"w\") as f1:\n",
    "    f1.writelines(lines)"
   ]
  },
  {
   "cell_type": "code",
   "execution_count": null,
   "id": "03e8a5e4",
   "metadata": {},
   "outputs": [],
   "source": []
  }
 ],
 "metadata": {
  "kernelspec": {
   "display_name": "Python 3",
   "language": "python",
   "name": "python3"
  },
  "language_info": {
   "codemirror_mode": {
    "name": "ipython",
    "version": 3
   },
   "file_extension": ".py",
   "mimetype": "text/x-python",
   "name": "python",
   "nbconvert_exporter": "python",
   "pygments_lexer": "ipython3",
   "version": "3.8.8"
  }
 },
 "nbformat": 4,
 "nbformat_minor": 5
}
