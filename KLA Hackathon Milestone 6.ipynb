{
 "cells": [
  {
   "cell_type": "code",
   "execution_count": 51,
   "id": "60303373",
   "metadata": {},
   "outputs": [],
   "source": [
    "import math"
   ]
  },
  {
   "cell_type": "code",
   "execution_count": 1,
   "id": "2c100722",
   "metadata": {},
   "outputs": [],
   "source": [
    "source = open('C:\\\\Users\\\\tejas\\\\Desktop\\\\KLA Hackathon\\\\Milestone_Input\\\\Milestone_Input\\\\Milestone 6\\\\Source.txt', 'r')\n",
    "content_src_4 = source.read()\n",
    "# print(content_src_4)\n",
    "source.close()"
   ]
  },
  {
   "cell_type": "code",
   "execution_count": 2,
   "id": "d73d446f",
   "metadata": {},
   "outputs": [
    {
     "name": "stdout",
     "output_type": "stream",
     "text": [
      "header 600 \n",
      "bgnlib 1/19/2023 14:39:49 1/19/2023 14:39:49 \n",
      "libname egdslib\n",
      "units 0.0001 1e-10 \n",
      "\n",
      "bgnstr 1/19/2023 14:39:49 1/19/2023 14:39:49 \n",
      "strname t\n",
      "\n",
      "boundary\n",
      "layer 1\n",
      "datatype 0\n",
      "xy  9  5540 3390  5540 5510  4330 5510  4330 6310  7430 6310  7430 5510  5980 5510  5980 3390  5540 3390\n",
      "endel\n",
      "endstr\n",
      "endlib\n",
      "\n"
     ]
    }
   ],
   "source": [
    "poi = open('C:\\\\Users\\\\tejas\\\\Desktop\\\\KLA Hackathon\\\\Milestone_Input\\\\Milestone_Input\\\\Milestone 6\\\\POI.txt', 'r')\n",
    "content_poi_4 = poi.read()\n",
    "print(content_poi_4)\n",
    "poi.close()"
   ]
  },
  {
   "cell_type": "code",
   "execution_count": 3,
   "id": "0b6f99a1",
   "metadata": {},
   "outputs": [],
   "source": [
    "def shoelace_formula(coordinates):\n",
    "    n = len(coordinates)\n",
    "    area = 0.0\n",
    "    for i in range(n):\n",
    "        j = (i + 1) % n\n",
    "        area += coordinates[i][0] * coordinates[j][1]\n",
    "        area -= coordinates[j][0] * coordinates[i][1]\n",
    "    area = abs(area) / 2.0\n",
    "    return area"
   ]
  },
  {
   "cell_type": "code",
   "execution_count": 5,
   "id": "e6cb5897",
   "metadata": {},
   "outputs": [
    {
     "data": {
      "text/plain": [
       "['xy  9  5540 3390  5540 5510  4330 5510  4330 6310  7430 6310  7430 5510  5980 5510  5980 3390  5540 3390']"
      ]
     },
     "execution_count": 5,
     "metadata": {},
     "output_type": "execute_result"
    }
   ],
   "source": [
    "import re\n",
    "\n",
    "# open the text file\n",
    "with open(\"C:\\\\Users\\\\tejas\\\\Desktop\\\\KLA Hackathon\\\\Milestone_Input\\\\Milestone_Input\\\\Milestone 6\\\\POI.txt\", \"r\") as f:\n",
    "    text = f.read()\n",
    "\n",
    "matches = re.findall(r'^.*xy  9.*$', text, re.MULTILINE)\n",
    "target = []\n",
    "for match in matches:\n",
    "    target.append(match)\n",
    "target"
   ]
  },
  {
   "cell_type": "code",
   "execution_count": 6,
   "id": "d7282185",
   "metadata": {},
   "outputs": [
    {
     "data": {
      "text/plain": [
       "['5540 3390  5540 5510  4330 5510  4330 6310  7430 6310  7430 5510  5980 5510  5980 3390  5540 3390']"
      ]
     },
     "execution_count": 6,
     "metadata": {},
     "output_type": "execute_result"
    }
   ],
   "source": [
    "t1 = []\n",
    "for i in target:\n",
    "    i = i.replace(\"xy  9  \",\"\")\n",
    "    t1.append(i)\n",
    "t1"
   ]
  },
  {
   "cell_type": "code",
   "execution_count": 7,
   "id": "26b027f6",
   "metadata": {},
   "outputs": [
    {
     "data": {
      "text/plain": [
       "[[[5540, 3390],\n",
       "  [5540, 5510],\n",
       "  [4330, 5510],\n",
       "  [4330, 6310],\n",
       "  [7430, 6310],\n",
       "  [7430, 5510],\n",
       "  [5980, 5510],\n",
       "  [5980, 3390],\n",
       "  [5540, 3390]]]"
      ]
     },
     "execution_count": 7,
     "metadata": {},
     "output_type": "execute_result"
    }
   ],
   "source": [
    "t2 = []\n",
    "# string  = l1[0]\n",
    "for i in t1:\n",
    "    t4 = []\n",
    "    matches = re.findall(r'(-?\\d+) (-?\\d+)', i)\n",
    "\n",
    "    for match in matches:\n",
    "        m = []\n",
    "        for i in match:\n",
    "            i = int(i)\n",
    "            m.append(i)\n",
    "        t4.append(m)\n",
    "    t2.append(t4)\n",
    "t2"
   ]
  },
  {
   "cell_type": "code",
   "execution_count": 8,
   "id": "63d572a1",
   "metadata": {},
   "outputs": [
    {
     "data": {
      "text/plain": [
       "[3412800.0]"
      ]
     },
     "execution_count": 8,
     "metadata": {},
     "output_type": "execute_result"
    }
   ],
   "source": [
    "at = []\n",
    "for i in t2:\n",
    "    area = shoelace_formula(i)\n",
    "    at.append(area)\n",
    "at"
   ]
  },
  {
   "cell_type": "code",
   "execution_count": 52,
   "id": "64dc6434",
   "metadata": {},
   "outputs": [
    {
     "data": {
      "text/plain": [
       "[[2120.0, 1210.0, 800.0, 3100.0, 800.0, 1450.0, 2120.0, 440.0]]"
      ]
     },
     "execution_count": 52,
     "metadata": {},
     "output_type": "execute_result"
    }
   ],
   "source": [
    "sidet = []\n",
    "for j in range(len(t2)):\n",
    "    vertices = t2[j]\n",
    "#     print(vertices)\n",
    "    side_lengths = []\n",
    "    for i in range(len(vertices) - 1):\n",
    "        # calculate the distance between two consecutive vertices\n",
    "        side_length = math.dist(vertices[i], vertices[i+1])\n",
    "        side_lengths.append(side_length)\n",
    "#     side_length = math.dist(vertices[0], vertices[-1])\n",
    "#     side_lengths.append(side_length)\n",
    "    sidet.append(side_lengths)\n",
    "sidet"
   ]
  },
  {
   "cell_type": "code",
   "execution_count": 56,
   "id": "e7526263",
   "metadata": {},
   "outputs": [
    {
     "data": {
      "text/plain": [
       "[[1.5707963267948966,\n",
       "  3.141592653589793,\n",
       "  1.5707963267948966,\n",
       "  0.0,\n",
       "  -1.5707963267948966,\n",
       "  3.141592653589793,\n",
       "  -1.5707963267948966,\n",
       "  3.141592653589793]]"
      ]
     },
     "execution_count": 56,
     "metadata": {},
     "output_type": "execute_result"
    }
   ],
   "source": [
    "angt = []\n",
    "for j in range(len(t2)):\n",
    "    angles = []\n",
    "    vertices = t2[j]\n",
    "#     print(vertices)\n",
    "    for i in range(len(vertices) - 1):\n",
    "        # calculate the change in x and y between two consecutive vertices\n",
    "        dx = vertices[i+1][0] - vertices[i][0]\n",
    "        dy = vertices[i+1][1] - vertices[i][1]\n",
    "        angle = math.atan2(dy, dx)\n",
    "        angles.append(angle)\n",
    "    angt.append(angles)\n",
    "angt"
   ]
  },
  {
   "cell_type": "code",
   "execution_count": 72,
   "id": "b7bfb894",
   "metadata": {},
   "outputs": [
    {
     "data": {
      "text/plain": [
       "4250"
      ]
     },
     "execution_count": 72,
     "metadata": {},
     "output_type": "execute_result"
    }
   ],
   "source": [
    "# pat = \"xy  7\"\n",
    "import re\n",
    "\n",
    "# open the text file\n",
    "with open(\"C:\\\\Users\\\\tejas\\\\Desktop\\\\KLA Hackathon\\\\Milestone_Input\\\\Milestone_Input\\\\Milestone 6\\\\Source.txt\", \"r\") as f:\n",
    "    text = f.read()\n",
    "\n",
    "matches = re.findall(r'^.*layer 1\\ndatatype 0\\nxy.*$', text, re.MULTILINE)\n",
    "lte = []\n",
    "for match in matches:\n",
    "    lte.append(match)\n",
    "len(lte)"
   ]
  },
  {
   "cell_type": "code",
   "execution_count": 69,
   "id": "8550514c",
   "metadata": {},
   "outputs": [],
   "source": [
    "# pat = \"xy  7\"\n",
    "import re\n",
    "\n",
    "# open the text file\n",
    "with open(\"C:\\\\Users\\\\tejas\\\\Desktop\\\\KLA Hackathon\\\\Milestone_Input\\\\Milestone_Input\\\\Milestone 6\\\\Source.txt\", \"r\") as f:\n",
    "    text = f.read()\n",
    "\n",
    "matches = re.findall(r'^.*layer 1\\ndatatype 0\\nxy  9.*$', text, re.MULTILINE)\n",
    "l = []\n",
    "for match in matches:\n",
    "    l.append(match)\n",
    "# l"
   ]
  },
  {
   "cell_type": "code",
   "execution_count": 70,
   "id": "567f6c45",
   "metadata": {},
   "outputs": [],
   "source": [
    "l1 = []\n",
    "for i in l:\n",
    "    i = i.replace(\"xy  9  \",\"\")\n",
    "    l1.append(i)\n"
   ]
  },
  {
   "cell_type": "code",
   "execution_count": 71,
   "id": "530bb6bf",
   "metadata": {},
   "outputs": [
    {
     "data": {
      "text/plain": [
       "4250"
      ]
     },
     "execution_count": 71,
     "metadata": {},
     "output_type": "execute_result"
    }
   ],
   "source": [
    "l2 = []\n",
    "# string  = l1[0]\n",
    "for i in l1:\n",
    "    l4 = []\n",
    "    matches = re.findall(r'(-?\\d+) (-?\\d+)', i)\n",
    "\n",
    "    for match in matches:\n",
    "        m = []\n",
    "        for i in match:\n",
    "            i = int(i)\n",
    "            m.append(i)\n",
    "        l4.append(m)\n",
    "    l2.append(l4)\n",
    "len(l2)"
   ]
  },
  {
   "cell_type": "code",
   "execution_count": 53,
   "id": "3c941c48",
   "metadata": {},
   "outputs": [],
   "source": [
    "sides = []\n",
    "for j in range(len(l2)):\n",
    "    vertices = l2[j]\n",
    "#     print(vertices)\n",
    "    side_lengths = []\n",
    "    for i in range(len(vertices) - 1):\n",
    "        # calculate the distance between two consecutive vertices\n",
    "        side_length = math.dist(vertices[i], vertices[i+1])\n",
    "        side_lengths.append(side_length)\n",
    "#     side_length = math.dist(vertices[0], vertices[-1])\n",
    "#     side_lengths.append(side_length)\n",
    "    sides.append(side_lengths)\n",
    "# sides"
   ]
  },
  {
   "cell_type": "code",
   "execution_count": 55,
   "id": "18f4badf",
   "metadata": {},
   "outputs": [],
   "source": [
    "angs = []\n",
    "for j in range(len(l2)):\n",
    "    angles = []\n",
    "    vertices = l2[j]\n",
    "#     print(vertices)\n",
    "    for i in range(len(vertices) - 1):\n",
    "        # calculate the change in x and y between two consecutive vertices\n",
    "        dx = vertices[i+1][0] - vertices[i][0]\n",
    "        dy = vertices[i+1][1] - vertices[i][1]\n",
    "        angle = math.atan2(dy, dx)\n",
    "        angles.append(angle)\n",
    "    angs.append(angles)\n",
    "# angs"
   ]
  },
  {
   "cell_type": "code",
   "execution_count": 60,
   "id": "e3a7a6b6",
   "metadata": {},
   "outputs": [
    {
     "data": {
      "text/plain": [
       "0"
      ]
     },
     "execution_count": 60,
     "metadata": {},
     "output_type": "execute_result"
    }
   ],
   "source": []
  },
  {
   "cell_type": "code",
   "execution_count": 66,
   "id": "1d4841a9",
   "metadata": {},
   "outputs": [
    {
     "data": {
      "text/plain": [
       "[3224200.0, 7678800.0, 853200.0]"
      ]
     },
     "execution_count": 66,
     "metadata": {},
     "output_type": "execute_result"
    }
   ],
   "source": [
    "al = []\n",
    "for i in l2:\n",
    "    area = shoelace_formula(i)\n",
    "    al.append(area)\n",
    "# print(al)\n",
    "ind = []\n",
    "target = []\n",
    "for i in al:\n",
    "    if i != at[0]:\n",
    "        target.append(i)\n",
    "res = []\n",
    "for i in target:\n",
    "    if i not in res:\n",
    "        res.append(i)\n",
    "res"
   ]
  },
  {
   "cell_type": "code",
   "execution_count": 63,
   "id": "6e92432b",
   "metadata": {},
   "outputs": [
    {
     "data": {
      "text/plain": [
       "3250"
      ]
     },
     "execution_count": 63,
     "metadata": {},
     "output_type": "execute_result"
    }
   ],
   "source": [
    "# list to store the indexes of the target element\n",
    "ind = []\n",
    "\n",
    "# loop through the list using enumerate\n",
    "for i, el in enumerate(al):\n",
    "    if el in res:\n",
    "        ind.append(i)\n",
    "\n",
    "# print the indexes\n",
    "# print(indexes)\n",
    "len(ind)"
   ]
  },
  {
   "cell_type": "code",
   "execution_count": 37,
   "id": "8ceef8e5",
   "metadata": {},
   "outputs": [],
   "source": [
    "res = []\n",
    "for i in ind:\n",
    "    r = l[i]\n",
    "    r = r + '\\n'\n",
    "    res.append(r)\n",
    "# res"
   ]
  },
  {
   "cell_type": "code",
   "execution_count": 38,
   "id": "e87991b9",
   "metadata": {},
   "outputs": [],
   "source": [
    "r2 = 'xy'"
   ]
  },
  {
   "cell_type": "code",
   "execution_count": 40,
   "id": "e2b33a6d",
   "metadata": {},
   "outputs": [],
   "source": [
    "r3 = 'xy  9'"
   ]
  },
  {
   "cell_type": "code",
   "execution_count": 47,
   "id": "abb63192",
   "metadata": {},
   "outputs": [
    {
     "name": "stdout",
     "output_type": "stream",
     "text": [
      "21260\n",
      "5010\n"
     ]
    }
   ],
   "source": [
    "with open(\"C:\\\\Users\\\\tejas\\\\Desktop\\\\KLA Hackathon\\\\Milestone_Input\\\\Milestone_Input\\\\Milestone 6\\\\Source.txt\", \"r\") as f:\n",
    "    lines = f.readlines()\n",
    "print(len(lines))\n",
    "for r in res:\n",
    "    if r in lines:\n",
    "        ind1 = lines.index(r)\n",
    "    del lines[ind1 - 3:ind1 + 2]\n",
    "print(len(lines))"
   ]
  },
  {
   "cell_type": "code",
   "execution_count": 68,
   "id": "477e85ad",
   "metadata": {},
   "outputs": [
    {
     "name": "stdout",
     "output_type": "stream",
     "text": [
      "1000\n"
     ]
    }
   ],
   "source": [
    "select = [s for s in lines if s.startswith(r2)]\n",
    "for s in select:\n",
    "    if (s.startswith(r3)) == False:\n",
    "        ind2 =  lines.index(s)\n",
    "#         print(ind2)\n",
    "#         print(lines[ind2])\n",
    "#         print(lines[ind2 + 1])\n",
    "#         print(lines[ind2 - 1])\n",
    "#         print(lines[ind2 - 2])\n",
    "#         print(lines[ind2 - 3])\n",
    "        del lines[ind2 - 3 : ind2 + 2]"
   ]
  },
  {
   "cell_type": "code",
   "execution_count": 49,
   "id": "b5cef953",
   "metadata": {},
   "outputs": [],
   "source": [
    "# open the new file and write the remaining lines\n",
    "with open(\"output6.txt\", \"w\") as f1:\n",
    "    f1.writelines(lines)"
   ]
  },
  {
   "cell_type": "code",
   "execution_count": null,
   "id": "067a3721",
   "metadata": {},
   "outputs": [],
   "source": []
  }
 ],
 "metadata": {
  "kernelspec": {
   "display_name": "Python 3",
   "language": "python",
   "name": "python3"
  },
  "language_info": {
   "codemirror_mode": {
    "name": "ipython",
    "version": 3
   },
   "file_extension": ".py",
   "mimetype": "text/x-python",
   "name": "python",
   "nbconvert_exporter": "python",
   "pygments_lexer": "ipython3",
   "version": "3.8.8"
  }
 },
 "nbformat": 4,
 "nbformat_minor": 5
}
